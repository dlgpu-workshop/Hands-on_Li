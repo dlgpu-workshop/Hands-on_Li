{
 "cells": [
  {
   "cell_type": "code",
   "execution_count": 1,
   "id": "e6be45be",
   "metadata": {},
   "outputs": [
    {
     "ename": "FileNotFoundError",
     "evalue": "[WinError 3] The system cannot find the path specified: './Sample800_1'",
     "output_type": "error",
     "traceback": [
      "\u001b[1;31m---------------------------------------------------------------------------\u001b[0m",
      "\u001b[1;31mFileNotFoundError\u001b[0m                         Traceback (most recent call last)",
      "Cell \u001b[1;32mIn[1], line 55\u001b[0m\n\u001b[0;32m     52\u001b[0m             norm \u001b[38;5;241m=\u001b[39m normalize_image(PATH\u001b[38;5;241m+\u001b[39m\u001b[38;5;124m'\u001b[39m\u001b[38;5;124m/\u001b[39m\u001b[38;5;124m'\u001b[39m\u001b[38;5;241m+\u001b[39mfilename,OUT_PATH\u001b[38;5;241m+\u001b[39m\u001b[38;5;124m'\u001b[39m\u001b[38;5;124m/\u001b[39m\u001b[38;5;124m'\u001b[39m\u001b[38;5;241m+\u001b[39mfilename)\n\u001b[0;32m     54\u001b[0m \u001b[38;5;28;01mif\u001b[39;00m \u001b[38;5;18m__name__\u001b[39m \u001b[38;5;241m==\u001b[39m \u001b[38;5;124m'\u001b[39m\u001b[38;5;124m__main__\u001b[39m\u001b[38;5;124m'\u001b[39m:\n\u001b[1;32m---> 55\u001b[0m     \u001b[43mnormalize_images\u001b[49m\u001b[43m(\u001b[49m\u001b[43m)\u001b[49m\n",
      "Cell \u001b[1;32mIn[1], line 47\u001b[0m, in \u001b[0;36mnormalize_images\u001b[1;34m()\u001b[0m\n\u001b[0;32m     43\u001b[0m     image\u001b[38;5;241m.\u001b[39msave(out_path, \u001b[38;5;124m\"\u001b[39m\u001b[38;5;124mTIFF\u001b[39m\u001b[38;5;124m\"\u001b[39m)\n\u001b[0;32m     44\u001b[0m     \u001b[38;5;28;01mreturn\u001b[39;00m image\n\u001b[1;32m---> 47\u001b[0m file_list \u001b[38;5;241m=\u001b[39m \u001b[43mos\u001b[49m\u001b[38;5;241;43m.\u001b[39;49m\u001b[43mlistdir\u001b[49m\u001b[43m(\u001b[49m\u001b[43mPATH\u001b[49m\u001b[43m)\u001b[49m\n\u001b[0;32m     49\u001b[0m \u001b[38;5;28;01mfor\u001b[39;00m filename \u001b[38;5;129;01min\u001b[39;00m tqdm(file_list):\n\u001b[0;32m     50\u001b[0m     \u001b[38;5;28;01mif\u001b[39;00m filename\u001b[38;5;241m.\u001b[39mendswith(FILE_TYPE):\n\u001b[0;32m     51\u001b[0m         \u001b[38;5;66;03m# Normalise to range 0..1\u001b[39;00m\n",
      "\u001b[1;31mFileNotFoundError\u001b[0m: [WinError 3] The system cannot find the path specified: './Sample800_1'"
     ]
    }
   ],
   "source": [
    "import os\n",
    "import numpy as np\n",
    "import os\n",
    "from PIL import Image\n",
    "import imageio.v2 as imageio\n",
    "from tqdm import tqdm\n",
    "import cv2\n",
    "\n",
    "def normalize_images():\n",
    "    PATH = './Sample800_1'\n",
    "    OUT_PATH = './Sample800_norm1'\n",
    "    FILE_TYPE = '.tif'\n",
    "\n",
    "    if not os.path.exists(OUT_PATH):\n",
    "        os.makedirs(OUT_PATH)\n",
    "\n",
    "\n",
    "    def apply_sobel(image,RGB=False):\n",
    "        #Apply sobel filter to refine edges\n",
    "        if(RGB == False):\n",
    "            gray = image\n",
    "        else:\n",
    "            gray = cv2.cvtColor(image, cv2.COLOR_BGR2GRAY)\n",
    "        grad_x = cv2.Sobel(gray, cv2.CV_64F, 1, 0, ksize=3)\n",
    "        grad_y = cv2.Sobel(gray, cv2.CV_64F, 0, 1, ksize=3)\n",
    "\n",
    "        abs_grad_x = cv2.convertScaleAbs(grad_x)\n",
    "        abs_grad_y = cv2.convertScaleAbs(grad_y)\n",
    "\n",
    "        grad = cv2.addWeighted(abs_grad_x, 0.5, abs_grad_y, 0.5, 0)\n",
    "        return grad\n",
    "\n",
    "    def normalize_image(img_path,out_path):\n",
    "        image = imageio.imread(img_path)\n",
    "        array = np.array(image)\n",
    "        normalized = (array.astype(np.float32) - array.min()) / (array.max() - array.min())\n",
    "\n",
    "        # scale normalized image to 0-65535 range\n",
    "        scaled = np.uint16(normalized * 65535)\n",
    "\n",
    "        # convert back to PIL for saving\n",
    "        image = Image.fromarray(scaled)\n",
    "        image.save(out_path, \"TIFF\")\n",
    "        return image\n",
    "\n",
    "\n",
    "    file_list = os.listdir(PATH)\n",
    "\n",
    "    for filename in tqdm(file_list):\n",
    "        if filename.endswith(FILE_TYPE):\n",
    "            # Normalise to range 0..1\n",
    "            norm = normalize_image(PATH+'/'+filename,OUT_PATH+'/'+filename)\n",
    "\n",
    "if __name__ == '__main__':\n",
    "    normalize_images()"
   ]
  },
  {
   "cell_type": "code",
   "execution_count": null,
   "id": "57923182",
   "metadata": {},
   "outputs": [],
   "source": []
  }
 ],
 "metadata": {
  "kernelspec": {
   "display_name": "Python 3 (ipykernel)",
   "language": "python",
   "name": "python3"
  },
  "language_info": {
   "codemirror_mode": {
    "name": "ipython",
    "version": 3
   },
   "file_extension": ".py",
   "mimetype": "text/x-python",
   "name": "python",
   "nbconvert_exporter": "python",
   "pygments_lexer": "ipython3",
   "version": "3.9.7"
  }
 },
 "nbformat": 4,
 "nbformat_minor": 5
}
